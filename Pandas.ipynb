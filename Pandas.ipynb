{
 "cells": [
  {
   "cell_type": "code",
   "execution_count": 1,
   "id": "0e770565",
   "metadata": {},
   "outputs": [],
   "source": [
    "import pandas as pd"
   ]
  },
  {
   "cell_type": "code",
   "execution_count": 2,
   "id": "5ae92115",
   "metadata": {},
   "outputs": [
    {
     "data": {
      "text/html": [
       "<div>\n",
       "<style scoped>\n",
       "    .dataframe tbody tr th:only-of-type {\n",
       "        vertical-align: middle;\n",
       "    }\n",
       "\n",
       "    .dataframe tbody tr th {\n",
       "        vertical-align: top;\n",
       "    }\n",
       "\n",
       "    .dataframe thead th {\n",
       "        text-align: right;\n",
       "    }\n",
       "</style>\n",
       "<table border=\"1\" class=\"dataframe\">\n",
       "  <thead>\n",
       "    <tr style=\"text-align: right;\">\n",
       "      <th></th>\n",
       "      <th>NAME</th>\n",
       "      <th>DATE</th>\n",
       "      <th>SALARY</th>\n",
       "      <th>COUNTRY</th>\n",
       "    </tr>\n",
       "  </thead>\n",
       "  <tbody>\n",
       "    <tr>\n",
       "      <th>0</th>\n",
       "      <td>samy</td>\n",
       "      <td>2004</td>\n",
       "      <td>15$</td>\n",
       "      <td>mansoura</td>\n",
       "    </tr>\n",
       "    <tr>\n",
       "      <th>1</th>\n",
       "      <td>khaled</td>\n",
       "      <td>2005</td>\n",
       "      <td>16$</td>\n",
       "      <td>saudi</td>\n",
       "    </tr>\n",
       "    <tr>\n",
       "      <th>2</th>\n",
       "      <td>ali</td>\n",
       "      <td>2006</td>\n",
       "      <td>18$</td>\n",
       "      <td>saudi</td>\n",
       "    </tr>\n",
       "    <tr>\n",
       "      <th>3</th>\n",
       "      <td>omar</td>\n",
       "      <td>2007</td>\n",
       "      <td>19$</td>\n",
       "      <td>saudi</td>\n",
       "    </tr>\n",
       "    <tr>\n",
       "      <th>4</th>\n",
       "      <td>yasser</td>\n",
       "      <td>2009</td>\n",
       "      <td>13$</td>\n",
       "      <td>iran</td>\n",
       "    </tr>\n",
       "    <tr>\n",
       "      <th>5</th>\n",
       "      <td>abobakr</td>\n",
       "      <td>2000</td>\n",
       "      <td>10$</td>\n",
       "      <td>saudi</td>\n",
       "    </tr>\n",
       "    <tr>\n",
       "      <th>6</th>\n",
       "      <td>hamza</td>\n",
       "      <td>1999</td>\n",
       "      <td>144$</td>\n",
       "      <td>saudi</td>\n",
       "    </tr>\n",
       "  </tbody>\n",
       "</table>\n",
       "</div>"
      ],
      "text/plain": [
       "      NAME  DATE SALARY   COUNTRY\n",
       "0     samy  2004    15$  mansoura\n",
       "1   khaled  2005    16$     saudi\n",
       "2      ali  2006    18$     saudi\n",
       "3     omar  2007    19$     saudi\n",
       "4   yasser  2009    13$      iran\n",
       "5  abobakr  2000    10$     saudi\n",
       "6    hamza  1999   144$     saudi"
      ]
     },
     "execution_count": 2,
     "metadata": {},
     "output_type": "execute_result"
    }
   ],
   "source": [
    "pd.read_csv('Desktop/Data.csv')"
   ]
  },
  {
   "cell_type": "code",
   "execution_count": 3,
   "id": "a4e569d8",
   "metadata": {},
   "outputs": [],
   "source": [
    "data=pd.read_csv('Desktop/Data.csv')"
   ]
  },
  {
   "cell_type": "code",
   "execution_count": 4,
   "id": "f5a5b12c",
   "metadata": {},
   "outputs": [
    {
     "data": {
      "text/html": [
       "<div>\n",
       "<style scoped>\n",
       "    .dataframe tbody tr th:only-of-type {\n",
       "        vertical-align: middle;\n",
       "    }\n",
       "\n",
       "    .dataframe tbody tr th {\n",
       "        vertical-align: top;\n",
       "    }\n",
       "\n",
       "    .dataframe thead th {\n",
       "        text-align: right;\n",
       "    }\n",
       "</style>\n",
       "<table border=\"1\" class=\"dataframe\">\n",
       "  <thead>\n",
       "    <tr style=\"text-align: right;\">\n",
       "      <th></th>\n",
       "      <th>NAME</th>\n",
       "      <th>DATE</th>\n",
       "      <th>SALARY</th>\n",
       "      <th>COUNTRY</th>\n",
       "    </tr>\n",
       "  </thead>\n",
       "  <tbody>\n",
       "    <tr>\n",
       "      <th>0</th>\n",
       "      <td>samy</td>\n",
       "      <td>2004</td>\n",
       "      <td>15$</td>\n",
       "      <td>mansoura</td>\n",
       "    </tr>\n",
       "    <tr>\n",
       "      <th>1</th>\n",
       "      <td>khaled</td>\n",
       "      <td>2005</td>\n",
       "      <td>16$</td>\n",
       "      <td>saudi</td>\n",
       "    </tr>\n",
       "    <tr>\n",
       "      <th>2</th>\n",
       "      <td>ali</td>\n",
       "      <td>2006</td>\n",
       "      <td>18$</td>\n",
       "      <td>saudi</td>\n",
       "    </tr>\n",
       "    <tr>\n",
       "      <th>3</th>\n",
       "      <td>omar</td>\n",
       "      <td>2007</td>\n",
       "      <td>19$</td>\n",
       "      <td>saudi</td>\n",
       "    </tr>\n",
       "    <tr>\n",
       "      <th>4</th>\n",
       "      <td>yasser</td>\n",
       "      <td>2009</td>\n",
       "      <td>13$</td>\n",
       "      <td>iran</td>\n",
       "    </tr>\n",
       "  </tbody>\n",
       "</table>\n",
       "</div>"
      ],
      "text/plain": [
       "     NAME  DATE SALARY   COUNTRY\n",
       "0    samy  2004    15$  mansoura\n",
       "1  khaled  2005    16$     saudi\n",
       "2     ali  2006    18$     saudi\n",
       "3    omar  2007    19$     saudi\n",
       "4  yasser  2009    13$      iran"
      ]
     },
     "execution_count": 4,
     "metadata": {},
     "output_type": "execute_result"
    }
   ],
   "source": [
    "data.head() # print first 5 rows"
   ]
  },
  {
   "cell_type": "code",
   "execution_count": 5,
   "id": "295c25d9",
   "metadata": {},
   "outputs": [
    {
     "data": {
      "text/html": [
       "<div>\n",
       "<style scoped>\n",
       "    .dataframe tbody tr th:only-of-type {\n",
       "        vertical-align: middle;\n",
       "    }\n",
       "\n",
       "    .dataframe tbody tr th {\n",
       "        vertical-align: top;\n",
       "    }\n",
       "\n",
       "    .dataframe thead th {\n",
       "        text-align: right;\n",
       "    }\n",
       "</style>\n",
       "<table border=\"1\" class=\"dataframe\">\n",
       "  <thead>\n",
       "    <tr style=\"text-align: right;\">\n",
       "      <th></th>\n",
       "      <th>NAME</th>\n",
       "      <th>DATE</th>\n",
       "      <th>SALARY</th>\n",
       "      <th>COUNTRY</th>\n",
       "    </tr>\n",
       "  </thead>\n",
       "  <tbody>\n",
       "    <tr>\n",
       "      <th>0</th>\n",
       "      <td>samy</td>\n",
       "      <td>2004</td>\n",
       "      <td>15$</td>\n",
       "      <td>mansoura</td>\n",
       "    </tr>\n",
       "    <tr>\n",
       "      <th>1</th>\n",
       "      <td>khaled</td>\n",
       "      <td>2005</td>\n",
       "      <td>16$</td>\n",
       "      <td>saudi</td>\n",
       "    </tr>\n",
       "  </tbody>\n",
       "</table>\n",
       "</div>"
      ],
      "text/plain": [
       "     NAME  DATE SALARY   COUNTRY\n",
       "0    samy  2004    15$  mansoura\n",
       "1  khaled  2005    16$     saudi"
      ]
     },
     "execution_count": 5,
     "metadata": {},
     "output_type": "execute_result"
    }
   ],
   "source": [
    "data.head(2)  # print first 2 rows"
   ]
  },
  {
   "cell_type": "code",
   "execution_count": 6,
   "id": "f6641ce4",
   "metadata": {},
   "outputs": [
    {
     "data": {
      "text/html": [
       "<div>\n",
       "<style scoped>\n",
       "    .dataframe tbody tr th:only-of-type {\n",
       "        vertical-align: middle;\n",
       "    }\n",
       "\n",
       "    .dataframe tbody tr th {\n",
       "        vertical-align: top;\n",
       "    }\n",
       "\n",
       "    .dataframe thead th {\n",
       "        text-align: right;\n",
       "    }\n",
       "</style>\n",
       "<table border=\"1\" class=\"dataframe\">\n",
       "  <thead>\n",
       "    <tr style=\"text-align: right;\">\n",
       "      <th></th>\n",
       "      <th>NAME</th>\n",
       "      <th>DATE</th>\n",
       "      <th>SALARY</th>\n",
       "      <th>COUNTRY</th>\n",
       "    </tr>\n",
       "  </thead>\n",
       "  <tbody>\n",
       "    <tr>\n",
       "      <th>2</th>\n",
       "      <td>ali</td>\n",
       "      <td>2006</td>\n",
       "      <td>18$</td>\n",
       "      <td>saudi</td>\n",
       "    </tr>\n",
       "    <tr>\n",
       "      <th>3</th>\n",
       "      <td>omar</td>\n",
       "      <td>2007</td>\n",
       "      <td>19$</td>\n",
       "      <td>saudi</td>\n",
       "    </tr>\n",
       "    <tr>\n",
       "      <th>4</th>\n",
       "      <td>yasser</td>\n",
       "      <td>2009</td>\n",
       "      <td>13$</td>\n",
       "      <td>iran</td>\n",
       "    </tr>\n",
       "    <tr>\n",
       "      <th>5</th>\n",
       "      <td>abobakr</td>\n",
       "      <td>2000</td>\n",
       "      <td>10$</td>\n",
       "      <td>saudi</td>\n",
       "    </tr>\n",
       "    <tr>\n",
       "      <th>6</th>\n",
       "      <td>hamza</td>\n",
       "      <td>1999</td>\n",
       "      <td>144$</td>\n",
       "      <td>saudi</td>\n",
       "    </tr>\n",
       "  </tbody>\n",
       "</table>\n",
       "</div>"
      ],
      "text/plain": [
       "      NAME  DATE SALARY COUNTRY\n",
       "2      ali  2006    18$   saudi\n",
       "3     omar  2007    19$   saudi\n",
       "4   yasser  2009    13$    iran\n",
       "5  abobakr  2000    10$   saudi\n",
       "6    hamza  1999   144$   saudi"
      ]
     },
     "execution_count": 6,
     "metadata": {},
     "output_type": "execute_result"
    }
   ],
   "source": [
    "data.tail() # print last 5 rows"
   ]
  },
  {
   "cell_type": "code",
   "execution_count": 7,
   "id": "31684936",
   "metadata": {},
   "outputs": [
    {
     "data": {
      "text/html": [
       "<div>\n",
       "<style scoped>\n",
       "    .dataframe tbody tr th:only-of-type {\n",
       "        vertical-align: middle;\n",
       "    }\n",
       "\n",
       "    .dataframe tbody tr th {\n",
       "        vertical-align: top;\n",
       "    }\n",
       "\n",
       "    .dataframe thead th {\n",
       "        text-align: right;\n",
       "    }\n",
       "</style>\n",
       "<table border=\"1\" class=\"dataframe\">\n",
       "  <thead>\n",
       "    <tr style=\"text-align: right;\">\n",
       "      <th></th>\n",
       "      <th>NAME</th>\n",
       "      <th>DATE</th>\n",
       "      <th>SALARY</th>\n",
       "      <th>COUNTRY</th>\n",
       "    </tr>\n",
       "  </thead>\n",
       "  <tbody>\n",
       "    <tr>\n",
       "      <th>5</th>\n",
       "      <td>abobakr</td>\n",
       "      <td>2000</td>\n",
       "      <td>10$</td>\n",
       "      <td>saudi</td>\n",
       "    </tr>\n",
       "    <tr>\n",
       "      <th>6</th>\n",
       "      <td>hamza</td>\n",
       "      <td>1999</td>\n",
       "      <td>144$</td>\n",
       "      <td>saudi</td>\n",
       "    </tr>\n",
       "  </tbody>\n",
       "</table>\n",
       "</div>"
      ],
      "text/plain": [
       "      NAME  DATE SALARY COUNTRY\n",
       "5  abobakr  2000    10$   saudi\n",
       "6    hamza  1999   144$   saudi"
      ]
     },
     "execution_count": 7,
     "metadata": {},
     "output_type": "execute_result"
    }
   ],
   "source": [
    "data.tail(2) # print last 2 rows"
   ]
  },
  {
   "cell_type": "code",
   "execution_count": 8,
   "id": "15677856",
   "metadata": {},
   "outputs": [
    {
     "data": {
      "text/plain": [
       "(7, 4)"
      ]
     },
     "execution_count": 8,
     "metadata": {},
     "output_type": "execute_result"
    }
   ],
   "source": [
    "data.shape"
   ]
  },
  {
   "cell_type": "markdown",
   "id": "97557487",
   "metadata": {},
   "source": [
    "### Data shape\n",
    "### (7,4) :\n",
    "### 7 number of rows .\n",
    "### 4 number of col ."
   ]
  },
  {
   "cell_type": "markdown",
   "id": "abad506e",
   "metadata": {},
   "source": [
    "___________________\n",
    "\n",
    "# Dataframes & Series "
   ]
  },
  {
   "cell_type": "code",
   "execution_count": 9,
   "id": "56f3c968",
   "metadata": {},
   "outputs": [
    {
     "data": {
      "text/plain": [
       "pandas.core.frame.DataFrame"
      ]
     },
     "execution_count": 9,
     "metadata": {},
     "output_type": "execute_result"
    }
   ],
   "source": [
    "type(data)"
   ]
  },
  {
   "cell_type": "code",
   "execution_count": 10,
   "id": "122d54d3",
   "metadata": {},
   "outputs": [
    {
     "name": "stdout",
     "output_type": "stream",
     "text": [
      "<class 'pandas.core.frame.DataFrame'>\n",
      "RangeIndex: 7 entries, 0 to 6\n",
      "Data columns (total 4 columns):\n",
      " #   Column   Non-Null Count  Dtype \n",
      "---  ------   --------------  ----- \n",
      " 0   NAME     7 non-null      object\n",
      " 1   DATE     7 non-null      int64 \n",
      " 2   SALARY   7 non-null      object\n",
      " 3   COUNTRY  7 non-null      object\n",
      "dtypes: int64(1), object(3)\n",
      "memory usage: 352.0+ bytes\n"
     ]
    }
   ],
   "source": [
    "data.info()"
   ]
  },
  {
   "cell_type": "code",
   "execution_count": 11,
   "id": "4d3863c7",
   "metadata": {},
   "outputs": [
    {
     "data": {
      "text/html": [
       "<div>\n",
       "<style scoped>\n",
       "    .dataframe tbody tr th:only-of-type {\n",
       "        vertical-align: middle;\n",
       "    }\n",
       "\n",
       "    .dataframe tbody tr th {\n",
       "        vertical-align: top;\n",
       "    }\n",
       "\n",
       "    .dataframe thead th {\n",
       "        text-align: right;\n",
       "    }\n",
       "</style>\n",
       "<table border=\"1\" class=\"dataframe\">\n",
       "  <thead>\n",
       "    <tr style=\"text-align: right;\">\n",
       "      <th></th>\n",
       "      <th>DATE</th>\n",
       "    </tr>\n",
       "  </thead>\n",
       "  <tbody>\n",
       "    <tr>\n",
       "      <th>count</th>\n",
       "      <td>7.000000</td>\n",
       "    </tr>\n",
       "    <tr>\n",
       "      <th>mean</th>\n",
       "      <td>2004.285714</td>\n",
       "    </tr>\n",
       "    <tr>\n",
       "      <th>std</th>\n",
       "      <td>3.638419</td>\n",
       "    </tr>\n",
       "    <tr>\n",
       "      <th>min</th>\n",
       "      <td>1999.000000</td>\n",
       "    </tr>\n",
       "    <tr>\n",
       "      <th>25%</th>\n",
       "      <td>2002.000000</td>\n",
       "    </tr>\n",
       "    <tr>\n",
       "      <th>50%</th>\n",
       "      <td>2005.000000</td>\n",
       "    </tr>\n",
       "    <tr>\n",
       "      <th>75%</th>\n",
       "      <td>2006.500000</td>\n",
       "    </tr>\n",
       "    <tr>\n",
       "      <th>max</th>\n",
       "      <td>2009.000000</td>\n",
       "    </tr>\n",
       "  </tbody>\n",
       "</table>\n",
       "</div>"
      ],
      "text/plain": [
       "              DATE\n",
       "count     7.000000\n",
       "mean   2004.285714\n",
       "std       3.638419\n",
       "min    1999.000000\n",
       "25%    2002.000000\n",
       "50%    2005.000000\n",
       "75%    2006.500000\n",
       "max    2009.000000"
      ]
     },
     "execution_count": 11,
     "metadata": {},
     "output_type": "execute_result"
    }
   ],
   "source": [
    "data.describe()"
   ]
  },
  {
   "cell_type": "code",
   "execution_count": 12,
   "id": "16a86839",
   "metadata": {},
   "outputs": [],
   "source": [
    "names=[\"abdulrahman\",'mohammed','abdelrazek']"
   ]
  },
  {
   "cell_type": "code",
   "execution_count": 13,
   "id": "9dbf946a",
   "metadata": {},
   "outputs": [
    {
     "data": {
      "text/html": [
       "<div>\n",
       "<style scoped>\n",
       "    .dataframe tbody tr th:only-of-type {\n",
       "        vertical-align: middle;\n",
       "    }\n",
       "\n",
       "    .dataframe tbody tr th {\n",
       "        vertical-align: top;\n",
       "    }\n",
       "\n",
       "    .dataframe thead th {\n",
       "        text-align: right;\n",
       "    }\n",
       "</style>\n",
       "<table border=\"1\" class=\"dataframe\">\n",
       "  <thead>\n",
       "    <tr style=\"text-align: right;\">\n",
       "      <th></th>\n",
       "      <th>0</th>\n",
       "    </tr>\n",
       "  </thead>\n",
       "  <tbody>\n",
       "    <tr>\n",
       "      <th>0</th>\n",
       "      <td>abdulrahman</td>\n",
       "    </tr>\n",
       "    <tr>\n",
       "      <th>1</th>\n",
       "      <td>mohammed</td>\n",
       "    </tr>\n",
       "    <tr>\n",
       "      <th>2</th>\n",
       "      <td>abdelrazek</td>\n",
       "    </tr>\n",
       "  </tbody>\n",
       "</table>\n",
       "</div>"
      ],
      "text/plain": [
       "             0\n",
       "0  abdulrahman\n",
       "1     mohammed\n",
       "2   abdelrazek"
      ]
     },
     "execution_count": 13,
     "metadata": {},
     "output_type": "execute_result"
    }
   ],
   "source": [
    "pd.DataFrame(names)"
   ]
  },
  {
   "cell_type": "code",
   "execution_count": 14,
   "id": "d53b79c7",
   "metadata": {},
   "outputs": [
    {
     "data": {
      "text/html": [
       "<div>\n",
       "<style scoped>\n",
       "    .dataframe tbody tr th:only-of-type {\n",
       "        vertical-align: middle;\n",
       "    }\n",
       "\n",
       "    .dataframe tbody tr th {\n",
       "        vertical-align: top;\n",
       "    }\n",
       "\n",
       "    .dataframe thead th {\n",
       "        text-align: right;\n",
       "    }\n",
       "</style>\n",
       "<table border=\"1\" class=\"dataframe\">\n",
       "  <thead>\n",
       "    <tr style=\"text-align: right;\">\n",
       "      <th></th>\n",
       "      <th>Names</th>\n",
       "    </tr>\n",
       "  </thead>\n",
       "  <tbody>\n",
       "    <tr>\n",
       "      <th>0</th>\n",
       "      <td>abdulrahman</td>\n",
       "    </tr>\n",
       "    <tr>\n",
       "      <th>1</th>\n",
       "      <td>mohammed</td>\n",
       "    </tr>\n",
       "    <tr>\n",
       "      <th>2</th>\n",
       "      <td>abdelrazek</td>\n",
       "    </tr>\n",
       "  </tbody>\n",
       "</table>\n",
       "</div>"
      ],
      "text/plain": [
       "         Names\n",
       "0  abdulrahman\n",
       "1     mohammed\n",
       "2   abdelrazek"
      ]
     },
     "execution_count": 14,
     "metadata": {},
     "output_type": "execute_result"
    }
   ],
   "source": [
    "pd.DataFrame(names,columns=['Names'])"
   ]
  },
  {
   "cell_type": "code",
   "execution_count": 15,
   "id": "70860289",
   "metadata": {},
   "outputs": [],
   "source": [
    "dic={'names':['abdo','abdullah','ahmed'],\n",
    "     'salary':['152$','130$','500$'],\n",
    "     'date':['2000','2003','2005']\n",
    "}"
   ]
  },
  {
   "cell_type": "code",
   "execution_count": 16,
   "id": "b771d587",
   "metadata": {},
   "outputs": [
    {
     "data": {
      "text/html": [
       "<div>\n",
       "<style scoped>\n",
       "    .dataframe tbody tr th:only-of-type {\n",
       "        vertical-align: middle;\n",
       "    }\n",
       "\n",
       "    .dataframe tbody tr th {\n",
       "        vertical-align: top;\n",
       "    }\n",
       "\n",
       "    .dataframe thead th {\n",
       "        text-align: right;\n",
       "    }\n",
       "</style>\n",
       "<table border=\"1\" class=\"dataframe\">\n",
       "  <thead>\n",
       "    <tr style=\"text-align: right;\">\n",
       "      <th></th>\n",
       "      <th>names</th>\n",
       "      <th>salary</th>\n",
       "      <th>date</th>\n",
       "    </tr>\n",
       "  </thead>\n",
       "  <tbody>\n",
       "    <tr>\n",
       "      <th>0</th>\n",
       "      <td>abdo</td>\n",
       "      <td>152$</td>\n",
       "      <td>2000</td>\n",
       "    </tr>\n",
       "    <tr>\n",
       "      <th>1</th>\n",
       "      <td>abdullah</td>\n",
       "      <td>130$</td>\n",
       "      <td>2003</td>\n",
       "    </tr>\n",
       "    <tr>\n",
       "      <th>2</th>\n",
       "      <td>ahmed</td>\n",
       "      <td>500$</td>\n",
       "      <td>2005</td>\n",
       "    </tr>\n",
       "  </tbody>\n",
       "</table>\n",
       "</div>"
      ],
      "text/plain": [
       "      names salary  date\n",
       "0      abdo   152$  2000\n",
       "1  abdullah   130$  2003\n",
       "2     ahmed   500$  2005"
      ]
     },
     "execution_count": 16,
     "metadata": {},
     "output_type": "execute_result"
    }
   ],
   "source": [
    "dict=pd.DataFrame(dic)\n",
    "dict"
   ]
  },
  {
   "cell_type": "code",
   "execution_count": 17,
   "id": "01a8f733",
   "metadata": {},
   "outputs": [
    {
     "data": {
      "text/plain": [
       "0        abdo\n",
       "1    abdullah\n",
       "2       ahmed\n",
       "Name: names, dtype: object"
      ]
     },
     "execution_count": 17,
     "metadata": {},
     "output_type": "execute_result"
    }
   ],
   "source": [
    "dict['names']"
   ]
  },
  {
   "cell_type": "code",
   "execution_count": 18,
   "id": "4520789e",
   "metadata": {},
   "outputs": [
    {
     "data": {
      "text/plain": [
       "pandas.core.series.Series"
      ]
     },
     "execution_count": 18,
     "metadata": {},
     "output_type": "execute_result"
    }
   ],
   "source": [
    "type(dict['names'])"
   ]
  },
  {
   "cell_type": "code",
   "execution_count": 19,
   "id": "8fbabac0",
   "metadata": {},
   "outputs": [
    {
     "data": {
      "text/plain": [
       "names     abdullah\n",
       "salary        130$\n",
       "date          2003\n",
       "Name: 1, dtype: object"
      ]
     },
     "execution_count": 19,
     "metadata": {},
     "output_type": "execute_result"
    }
   ],
   "source": [
    "dict.iloc[1]"
   ]
  },
  {
   "cell_type": "code",
   "execution_count": 20,
   "id": "247bed2d",
   "metadata": {},
   "outputs": [
    {
     "data": {
      "text/html": [
       "<div>\n",
       "<style scoped>\n",
       "    .dataframe tbody tr th:only-of-type {\n",
       "        vertical-align: middle;\n",
       "    }\n",
       "\n",
       "    .dataframe tbody tr th {\n",
       "        vertical-align: top;\n",
       "    }\n",
       "\n",
       "    .dataframe thead th {\n",
       "        text-align: right;\n",
       "    }\n",
       "</style>\n",
       "<table border=\"1\" class=\"dataframe\">\n",
       "  <thead>\n",
       "    <tr style=\"text-align: right;\">\n",
       "      <th></th>\n",
       "      <th>names</th>\n",
       "      <th>salary</th>\n",
       "      <th>date</th>\n",
       "    </tr>\n",
       "  </thead>\n",
       "  <tbody>\n",
       "    <tr>\n",
       "      <th>1</th>\n",
       "      <td>abdullah</td>\n",
       "      <td>130$</td>\n",
       "      <td>2003</td>\n",
       "    </tr>\n",
       "    <tr>\n",
       "      <th>0</th>\n",
       "      <td>abdo</td>\n",
       "      <td>152$</td>\n",
       "      <td>2000</td>\n",
       "    </tr>\n",
       "  </tbody>\n",
       "</table>\n",
       "</div>"
      ],
      "text/plain": [
       "      names salary  date\n",
       "1  abdullah   130$  2003\n",
       "0      abdo   152$  2000"
      ]
     },
     "execution_count": 20,
     "metadata": {},
     "output_type": "execute_result"
    }
   ],
   "source": [
    "dict.iloc[[1,0]] # Swap"
   ]
  },
  {
   "cell_type": "markdown",
   "id": "7f60eafb",
   "metadata": {},
   "source": [
    "# Indxes Pandas"
   ]
  },
  {
   "cell_type": "code",
   "execution_count": 21,
   "id": "f56283cd",
   "metadata": {},
   "outputs": [],
   "source": [
    "index=['one','two','three']"
   ]
  },
  {
   "cell_type": "code",
   "execution_count": 22,
   "id": "f1bd97a5",
   "metadata": {},
   "outputs": [
    {
     "data": {
      "text/html": [
       "<div>\n",
       "<style scoped>\n",
       "    .dataframe tbody tr th:only-of-type {\n",
       "        vertical-align: middle;\n",
       "    }\n",
       "\n",
       "    .dataframe tbody tr th {\n",
       "        vertical-align: top;\n",
       "    }\n",
       "\n",
       "    .dataframe thead th {\n",
       "        text-align: right;\n",
       "    }\n",
       "</style>\n",
       "<table border=\"1\" class=\"dataframe\">\n",
       "  <thead>\n",
       "    <tr style=\"text-align: right;\">\n",
       "      <th></th>\n",
       "      <th>names</th>\n",
       "      <th>salary</th>\n",
       "      <th>date</th>\n",
       "    </tr>\n",
       "  </thead>\n",
       "  <tbody>\n",
       "    <tr>\n",
       "      <th>one</th>\n",
       "      <td>abdo</td>\n",
       "      <td>152$</td>\n",
       "      <td>2000</td>\n",
       "    </tr>\n",
       "    <tr>\n",
       "      <th>two</th>\n",
       "      <td>abdullah</td>\n",
       "      <td>130$</td>\n",
       "      <td>2003</td>\n",
       "    </tr>\n",
       "    <tr>\n",
       "      <th>three</th>\n",
       "      <td>ahmed</td>\n",
       "      <td>500$</td>\n",
       "      <td>2005</td>\n",
       "    </tr>\n",
       "  </tbody>\n",
       "</table>\n",
       "</div>"
      ],
      "text/plain": [
       "          names salary  date\n",
       "one        abdo   152$  2000\n",
       "two    abdullah   130$  2003\n",
       "three     ahmed   500$  2005"
      ]
     },
     "execution_count": 22,
     "metadata": {},
     "output_type": "execute_result"
    }
   ],
   "source": [
    "dict.set_index([index],inplace=True)\n",
    "dict"
   ]
  },
  {
   "cell_type": "code",
   "execution_count": 23,
   "id": "dfb5286b",
   "metadata": {},
   "outputs": [
    {
     "data": {
      "text/plain": [
       "names     abdo\n",
       "salary    152$\n",
       "date      2000\n",
       "Name: one, dtype: object"
      ]
     },
     "execution_count": 23,
     "metadata": {},
     "output_type": "execute_result"
    }
   ],
   "source": [
    "dict.loc['one']"
   ]
  },
  {
   "cell_type": "markdown",
   "id": "a9cd1d74",
   "metadata": {},
   "source": [
    "# Filtering Data"
   ]
  },
  {
   "cell_type": "code",
   "execution_count": 24,
   "id": "643ffccb",
   "metadata": {},
   "outputs": [
    {
     "data": {
      "text/html": [
       "<div>\n",
       "<style scoped>\n",
       "    .dataframe tbody tr th:only-of-type {\n",
       "        vertical-align: middle;\n",
       "    }\n",
       "\n",
       "    .dataframe tbody tr th {\n",
       "        vertical-align: top;\n",
       "    }\n",
       "\n",
       "    .dataframe thead th {\n",
       "        text-align: right;\n",
       "    }\n",
       "</style>\n",
       "<table border=\"1\" class=\"dataframe\">\n",
       "  <thead>\n",
       "    <tr style=\"text-align: right;\">\n",
       "      <th></th>\n",
       "      <th>NAME</th>\n",
       "      <th>DATE</th>\n",
       "      <th>SALARY</th>\n",
       "      <th>COUNTRY</th>\n",
       "    </tr>\n",
       "  </thead>\n",
       "  <tbody>\n",
       "    <tr>\n",
       "      <th>0</th>\n",
       "      <td>samy</td>\n",
       "      <td>2004</td>\n",
       "      <td>15$</td>\n",
       "      <td>mansoura</td>\n",
       "    </tr>\n",
       "    <tr>\n",
       "      <th>1</th>\n",
       "      <td>khaled</td>\n",
       "      <td>2005</td>\n",
       "      <td>16$</td>\n",
       "      <td>saudi</td>\n",
       "    </tr>\n",
       "    <tr>\n",
       "      <th>2</th>\n",
       "      <td>ali</td>\n",
       "      <td>2006</td>\n",
       "      <td>18$</td>\n",
       "      <td>saudi</td>\n",
       "    </tr>\n",
       "    <tr>\n",
       "      <th>3</th>\n",
       "      <td>omar</td>\n",
       "      <td>2007</td>\n",
       "      <td>19$</td>\n",
       "      <td>saudi</td>\n",
       "    </tr>\n",
       "    <tr>\n",
       "      <th>4</th>\n",
       "      <td>yasser</td>\n",
       "      <td>2009</td>\n",
       "      <td>13$</td>\n",
       "      <td>iran</td>\n",
       "    </tr>\n",
       "    <tr>\n",
       "      <th>5</th>\n",
       "      <td>abobakr</td>\n",
       "      <td>2000</td>\n",
       "      <td>10$</td>\n",
       "      <td>saudi</td>\n",
       "    </tr>\n",
       "    <tr>\n",
       "      <th>6</th>\n",
       "      <td>hamza</td>\n",
       "      <td>1999</td>\n",
       "      <td>144$</td>\n",
       "      <td>saudi</td>\n",
       "    </tr>\n",
       "  </tbody>\n",
       "</table>\n",
       "</div>"
      ],
      "text/plain": [
       "      NAME  DATE SALARY   COUNTRY\n",
       "0     samy  2004    15$  mansoura\n",
       "1   khaled  2005    16$     saudi\n",
       "2      ali  2006    18$     saudi\n",
       "3     omar  2007    19$     saudi\n",
       "4   yasser  2009    13$      iran\n",
       "5  abobakr  2000    10$     saudi\n",
       "6    hamza  1999   144$     saudi"
      ]
     },
     "execution_count": 24,
     "metadata": {},
     "output_type": "execute_result"
    }
   ],
   "source": [
    "data"
   ]
  },
  {
   "cell_type": "code",
   "execution_count": 25,
   "id": "c84a508b",
   "metadata": {},
   "outputs": [
    {
     "data": {
      "text/plain": [
       "0    False\n",
       "1    False\n",
       "2     True\n",
       "3     True\n",
       "4     True\n",
       "5    False\n",
       "6    False\n",
       "Name: DATE, dtype: bool"
      ]
     },
     "execution_count": 25,
     "metadata": {},
     "output_type": "execute_result"
    }
   ],
   "source": [
    "H=(data['DATE'] > 2005)\n",
    "H"
   ]
  },
  {
   "cell_type": "code",
   "execution_count": 26,
   "id": "45763e49",
   "metadata": {},
   "outputs": [
    {
     "data": {
      "text/html": [
       "<div>\n",
       "<style scoped>\n",
       "    .dataframe tbody tr th:only-of-type {\n",
       "        vertical-align: middle;\n",
       "    }\n",
       "\n",
       "    .dataframe tbody tr th {\n",
       "        vertical-align: top;\n",
       "    }\n",
       "\n",
       "    .dataframe thead th {\n",
       "        text-align: right;\n",
       "    }\n",
       "</style>\n",
       "<table border=\"1\" class=\"dataframe\">\n",
       "  <thead>\n",
       "    <tr style=\"text-align: right;\">\n",
       "      <th></th>\n",
       "      <th>NAME</th>\n",
       "      <th>DATE</th>\n",
       "      <th>SALARY</th>\n",
       "      <th>COUNTRY</th>\n",
       "    </tr>\n",
       "  </thead>\n",
       "  <tbody>\n",
       "    <tr>\n",
       "      <th>2</th>\n",
       "      <td>ali</td>\n",
       "      <td>2006</td>\n",
       "      <td>18$</td>\n",
       "      <td>saudi</td>\n",
       "    </tr>\n",
       "    <tr>\n",
       "      <th>3</th>\n",
       "      <td>omar</td>\n",
       "      <td>2007</td>\n",
       "      <td>19$</td>\n",
       "      <td>saudi</td>\n",
       "    </tr>\n",
       "    <tr>\n",
       "      <th>4</th>\n",
       "      <td>yasser</td>\n",
       "      <td>2009</td>\n",
       "      <td>13$</td>\n",
       "      <td>iran</td>\n",
       "    </tr>\n",
       "  </tbody>\n",
       "</table>\n",
       "</div>"
      ],
      "text/plain": [
       "     NAME  DATE SALARY COUNTRY\n",
       "2     ali  2006    18$   saudi\n",
       "3    omar  2007    19$   saudi\n",
       "4  yasser  2009    13$    iran"
      ]
     },
     "execution_count": 26,
     "metadata": {},
     "output_type": "execute_result"
    }
   ],
   "source": [
    "data.loc[H]"
   ]
  },
  {
   "cell_type": "code",
   "execution_count": 27,
   "id": "e55d4223",
   "metadata": {},
   "outputs": [
    {
     "data": {
      "text/html": [
       "<div>\n",
       "<style scoped>\n",
       "    .dataframe tbody tr th:only-of-type {\n",
       "        vertical-align: middle;\n",
       "    }\n",
       "\n",
       "    .dataframe tbody tr th {\n",
       "        vertical-align: top;\n",
       "    }\n",
       "\n",
       "    .dataframe thead th {\n",
       "        text-align: right;\n",
       "    }\n",
       "</style>\n",
       "<table border=\"1\" class=\"dataframe\">\n",
       "  <thead>\n",
       "    <tr style=\"text-align: right;\">\n",
       "      <th></th>\n",
       "      <th>SALARY</th>\n",
       "      <th>COUNTRY</th>\n",
       "    </tr>\n",
       "  </thead>\n",
       "  <tbody>\n",
       "    <tr>\n",
       "      <th>2</th>\n",
       "      <td>18$</td>\n",
       "      <td>saudi</td>\n",
       "    </tr>\n",
       "    <tr>\n",
       "      <th>3</th>\n",
       "      <td>19$</td>\n",
       "      <td>saudi</td>\n",
       "    </tr>\n",
       "    <tr>\n",
       "      <th>4</th>\n",
       "      <td>13$</td>\n",
       "      <td>iran</td>\n",
       "    </tr>\n",
       "  </tbody>\n",
       "</table>\n",
       "</div>"
      ],
      "text/plain": [
       "  SALARY COUNTRY\n",
       "2    18$   saudi\n",
       "3    19$   saudi\n",
       "4    13$    iran"
      ]
     },
     "execution_count": 27,
     "metadata": {},
     "output_type": "execute_result"
    }
   ],
   "source": [
    "data.loc[H,['SALARY','COUNTRY']]"
   ]
  },
  {
   "cell_type": "code",
   "execution_count": 28,
   "id": "b3c9eaeb",
   "metadata": {},
   "outputs": [
    {
     "data": {
      "text/html": [
       "<div>\n",
       "<style scoped>\n",
       "    .dataframe tbody tr th:only-of-type {\n",
       "        vertical-align: middle;\n",
       "    }\n",
       "\n",
       "    .dataframe tbody tr th {\n",
       "        vertical-align: top;\n",
       "    }\n",
       "\n",
       "    .dataframe thead th {\n",
       "        text-align: right;\n",
       "    }\n",
       "</style>\n",
       "<table border=\"1\" class=\"dataframe\">\n",
       "  <thead>\n",
       "    <tr style=\"text-align: right;\">\n",
       "      <th></th>\n",
       "      <th>NAME</th>\n",
       "      <th>DATE</th>\n",
       "      <th>SALARY</th>\n",
       "      <th>COUNTRY</th>\n",
       "    </tr>\n",
       "  </thead>\n",
       "  <tbody>\n",
       "    <tr>\n",
       "      <th>0</th>\n",
       "      <td>samy</td>\n",
       "      <td>2004</td>\n",
       "      <td>15$</td>\n",
       "      <td>mansoura</td>\n",
       "    </tr>\n",
       "    <tr>\n",
       "      <th>1</th>\n",
       "      <td>khaled</td>\n",
       "      <td>2005</td>\n",
       "      <td>16$</td>\n",
       "      <td>saudi</td>\n",
       "    </tr>\n",
       "    <tr>\n",
       "      <th>2</th>\n",
       "      <td>ali</td>\n",
       "      <td>2006</td>\n",
       "      <td>18$</td>\n",
       "      <td>saudi</td>\n",
       "    </tr>\n",
       "    <tr>\n",
       "      <th>3</th>\n",
       "      <td>omar</td>\n",
       "      <td>2007</td>\n",
       "      <td>19$</td>\n",
       "      <td>saudi</td>\n",
       "    </tr>\n",
       "    <tr>\n",
       "      <th>4</th>\n",
       "      <td>yasser</td>\n",
       "      <td>2009</td>\n",
       "      <td>13$</td>\n",
       "      <td>iran</td>\n",
       "    </tr>\n",
       "    <tr>\n",
       "      <th>5</th>\n",
       "      <td>abobakr</td>\n",
       "      <td>2000</td>\n",
       "      <td>10$</td>\n",
       "      <td>saudi</td>\n",
       "    </tr>\n",
       "    <tr>\n",
       "      <th>6</th>\n",
       "      <td>hamza</td>\n",
       "      <td>1999</td>\n",
       "      <td>144$</td>\n",
       "      <td>saudi</td>\n",
       "    </tr>\n",
       "  </tbody>\n",
       "</table>\n",
       "</div>"
      ],
      "text/plain": [
       "      NAME  DATE SALARY   COUNTRY\n",
       "0     samy  2004    15$  mansoura\n",
       "1   khaled  2005    16$     saudi\n",
       "2      ali  2006    18$     saudi\n",
       "3     omar  2007    19$     saudi\n",
       "4   yasser  2009    13$      iran\n",
       "5  abobakr  2000    10$     saudi\n",
       "6    hamza  1999   144$     saudi"
      ]
     },
     "execution_count": 28,
     "metadata": {},
     "output_type": "execute_result"
    }
   ],
   "source": [
    "data"
   ]
  },
  {
   "cell_type": "code",
   "execution_count": 29,
   "id": "0db06204",
   "metadata": {},
   "outputs": [
    {
     "data": {
      "text/plain": [
       "array(['samy', 'khaled', 'ali', 'omar', 'yasser', 'abobakr', 'hamza'],\n",
       "      dtype=object)"
      ]
     },
     "execution_count": 29,
     "metadata": {},
     "output_type": "execute_result"
    }
   ],
   "source": [
    "data['NAME'].unique()"
   ]
  },
  {
   "cell_type": "code",
   "execution_count": 30,
   "id": "509cff4d",
   "metadata": {},
   "outputs": [],
   "source": [
    "name=['khaled']"
   ]
  },
  {
   "cell_type": "code",
   "execution_count": 31,
   "id": "86275f19",
   "metadata": {},
   "outputs": [],
   "source": [
    "filt=data['NAME'].isin(name)"
   ]
  },
  {
   "cell_type": "code",
   "execution_count": 32,
   "id": "80c773cd",
   "metadata": {},
   "outputs": [
    {
     "data": {
      "text/html": [
       "<div>\n",
       "<style scoped>\n",
       "    .dataframe tbody tr th:only-of-type {\n",
       "        vertical-align: middle;\n",
       "    }\n",
       "\n",
       "    .dataframe tbody tr th {\n",
       "        vertical-align: top;\n",
       "    }\n",
       "\n",
       "    .dataframe thead th {\n",
       "        text-align: right;\n",
       "    }\n",
       "</style>\n",
       "<table border=\"1\" class=\"dataframe\">\n",
       "  <thead>\n",
       "    <tr style=\"text-align: right;\">\n",
       "      <th></th>\n",
       "      <th>NAME</th>\n",
       "      <th>DATE</th>\n",
       "      <th>SALARY</th>\n",
       "      <th>COUNTRY</th>\n",
       "    </tr>\n",
       "  </thead>\n",
       "  <tbody>\n",
       "    <tr>\n",
       "      <th>1</th>\n",
       "      <td>khaled</td>\n",
       "      <td>2005</td>\n",
       "      <td>16$</td>\n",
       "      <td>saudi</td>\n",
       "    </tr>\n",
       "  </tbody>\n",
       "</table>\n",
       "</div>"
      ],
      "text/plain": [
       "     NAME  DATE SALARY COUNTRY\n",
       "1  khaled  2005    16$   saudi"
      ]
     },
     "execution_count": 32,
     "metadata": {},
     "output_type": "execute_result"
    }
   ],
   "source": [
    "data.loc[filt]"
   ]
  },
  {
   "cell_type": "markdown",
   "id": "7fc8dee7",
   "metadata": {},
   "source": [
    "# Add & Remove Col"
   ]
  },
  {
   "cell_type": "code",
   "execution_count": 33,
   "id": "fed082af",
   "metadata": {},
   "outputs": [],
   "source": [
    "data.drop(columns=['SALARY'],inplace=True)"
   ]
  },
  {
   "cell_type": "code",
   "execution_count": 34,
   "id": "763f4c35",
   "metadata": {},
   "outputs": [
    {
     "data": {
      "text/html": [
       "<div>\n",
       "<style scoped>\n",
       "    .dataframe tbody tr th:only-of-type {\n",
       "        vertical-align: middle;\n",
       "    }\n",
       "\n",
       "    .dataframe tbody tr th {\n",
       "        vertical-align: top;\n",
       "    }\n",
       "\n",
       "    .dataframe thead th {\n",
       "        text-align: right;\n",
       "    }\n",
       "</style>\n",
       "<table border=\"1\" class=\"dataframe\">\n",
       "  <thead>\n",
       "    <tr style=\"text-align: right;\">\n",
       "      <th></th>\n",
       "      <th>NAME</th>\n",
       "      <th>DATE</th>\n",
       "      <th>COUNTRY</th>\n",
       "    </tr>\n",
       "  </thead>\n",
       "  <tbody>\n",
       "    <tr>\n",
       "      <th>0</th>\n",
       "      <td>samy</td>\n",
       "      <td>2004</td>\n",
       "      <td>mansoura</td>\n",
       "    </tr>\n",
       "    <tr>\n",
       "      <th>1</th>\n",
       "      <td>khaled</td>\n",
       "      <td>2005</td>\n",
       "      <td>saudi</td>\n",
       "    </tr>\n",
       "    <tr>\n",
       "      <th>2</th>\n",
       "      <td>ali</td>\n",
       "      <td>2006</td>\n",
       "      <td>saudi</td>\n",
       "    </tr>\n",
       "    <tr>\n",
       "      <th>3</th>\n",
       "      <td>omar</td>\n",
       "      <td>2007</td>\n",
       "      <td>saudi</td>\n",
       "    </tr>\n",
       "    <tr>\n",
       "      <th>4</th>\n",
       "      <td>yasser</td>\n",
       "      <td>2009</td>\n",
       "      <td>iran</td>\n",
       "    </tr>\n",
       "    <tr>\n",
       "      <th>5</th>\n",
       "      <td>abobakr</td>\n",
       "      <td>2000</td>\n",
       "      <td>saudi</td>\n",
       "    </tr>\n",
       "    <tr>\n",
       "      <th>6</th>\n",
       "      <td>hamza</td>\n",
       "      <td>1999</td>\n",
       "      <td>saudi</td>\n",
       "    </tr>\n",
       "  </tbody>\n",
       "</table>\n",
       "</div>"
      ],
      "text/plain": [
       "      NAME  DATE   COUNTRY\n",
       "0     samy  2004  mansoura\n",
       "1   khaled  2005     saudi\n",
       "2      ali  2006     saudi\n",
       "3     omar  2007     saudi\n",
       "4   yasser  2009      iran\n",
       "5  abobakr  2000     saudi\n",
       "6    hamza  1999     saudi"
      ]
     },
     "execution_count": 34,
     "metadata": {},
     "output_type": "execute_result"
    }
   ],
   "source": [
    "data"
   ]
  },
  {
   "cell_type": "code",
   "execution_count": 35,
   "id": "921a4a5a",
   "metadata": {},
   "outputs": [
    {
     "data": {
      "text/html": [
       "<div>\n",
       "<style scoped>\n",
       "    .dataframe tbody tr th:only-of-type {\n",
       "        vertical-align: middle;\n",
       "    }\n",
       "\n",
       "    .dataframe tbody tr th {\n",
       "        vertical-align: top;\n",
       "    }\n",
       "\n",
       "    .dataframe thead th {\n",
       "        text-align: right;\n",
       "    }\n",
       "</style>\n",
       "<table border=\"1\" class=\"dataframe\">\n",
       "  <thead>\n",
       "    <tr style=\"text-align: right;\">\n",
       "      <th></th>\n",
       "      <th>NAME</th>\n",
       "      <th>DATE</th>\n",
       "      <th>COUNTRY</th>\n",
       "    </tr>\n",
       "  </thead>\n",
       "  <tbody>\n",
       "    <tr>\n",
       "      <th>1</th>\n",
       "      <td>khaled</td>\n",
       "      <td>2005</td>\n",
       "      <td>saudi</td>\n",
       "    </tr>\n",
       "    <tr>\n",
       "      <th>2</th>\n",
       "      <td>ali</td>\n",
       "      <td>2006</td>\n",
       "      <td>saudi</td>\n",
       "    </tr>\n",
       "    <tr>\n",
       "      <th>3</th>\n",
       "      <td>omar</td>\n",
       "      <td>2007</td>\n",
       "      <td>saudi</td>\n",
       "    </tr>\n",
       "    <tr>\n",
       "      <th>4</th>\n",
       "      <td>yasser</td>\n",
       "      <td>2009</td>\n",
       "      <td>iran</td>\n",
       "    </tr>\n",
       "    <tr>\n",
       "      <th>5</th>\n",
       "      <td>abobakr</td>\n",
       "      <td>2000</td>\n",
       "      <td>saudi</td>\n",
       "    </tr>\n",
       "    <tr>\n",
       "      <th>6</th>\n",
       "      <td>hamza</td>\n",
       "      <td>1999</td>\n",
       "      <td>saudi</td>\n",
       "    </tr>\n",
       "  </tbody>\n",
       "</table>\n",
       "</div>"
      ],
      "text/plain": [
       "      NAME  DATE COUNTRY\n",
       "1   khaled  2005   saudi\n",
       "2      ali  2006   saudi\n",
       "3     omar  2007   saudi\n",
       "4   yasser  2009    iran\n",
       "5  abobakr  2000   saudi\n",
       "6    hamza  1999   saudi"
      ]
     },
     "execution_count": 35,
     "metadata": {},
     "output_type": "execute_result"
    }
   ],
   "source": [
    "data.drop(index=0)"
   ]
  },
  {
   "cell_type": "code",
   "execution_count": 36,
   "id": "f4a529c6",
   "metadata": {},
   "outputs": [],
   "source": [
    "new=data['NAME']+\" \"+ data['COUNTRY']"
   ]
  },
  {
   "cell_type": "code",
   "execution_count": 37,
   "id": "b0d1f14c",
   "metadata": {},
   "outputs": [],
   "source": [
    "data['new']=new"
   ]
  },
  {
   "cell_type": "code",
   "execution_count": 38,
   "id": "cfe7099a",
   "metadata": {},
   "outputs": [
    {
     "data": {
      "text/html": [
       "<div>\n",
       "<style scoped>\n",
       "    .dataframe tbody tr th:only-of-type {\n",
       "        vertical-align: middle;\n",
       "    }\n",
       "\n",
       "    .dataframe tbody tr th {\n",
       "        vertical-align: top;\n",
       "    }\n",
       "\n",
       "    .dataframe thead th {\n",
       "        text-align: right;\n",
       "    }\n",
       "</style>\n",
       "<table border=\"1\" class=\"dataframe\">\n",
       "  <thead>\n",
       "    <tr style=\"text-align: right;\">\n",
       "      <th></th>\n",
       "      <th>NAME</th>\n",
       "      <th>DATE</th>\n",
       "      <th>COUNTRY</th>\n",
       "      <th>new</th>\n",
       "    </tr>\n",
       "  </thead>\n",
       "  <tbody>\n",
       "    <tr>\n",
       "      <th>0</th>\n",
       "      <td>samy</td>\n",
       "      <td>2004</td>\n",
       "      <td>mansoura</td>\n",
       "      <td>samy mansoura</td>\n",
       "    </tr>\n",
       "    <tr>\n",
       "      <th>1</th>\n",
       "      <td>khaled</td>\n",
       "      <td>2005</td>\n",
       "      <td>saudi</td>\n",
       "      <td>khaled saudi</td>\n",
       "    </tr>\n",
       "    <tr>\n",
       "      <th>2</th>\n",
       "      <td>ali</td>\n",
       "      <td>2006</td>\n",
       "      <td>saudi</td>\n",
       "      <td>ali saudi</td>\n",
       "    </tr>\n",
       "    <tr>\n",
       "      <th>3</th>\n",
       "      <td>omar</td>\n",
       "      <td>2007</td>\n",
       "      <td>saudi</td>\n",
       "      <td>omar saudi</td>\n",
       "    </tr>\n",
       "    <tr>\n",
       "      <th>4</th>\n",
       "      <td>yasser</td>\n",
       "      <td>2009</td>\n",
       "      <td>iran</td>\n",
       "      <td>yasser iran</td>\n",
       "    </tr>\n",
       "    <tr>\n",
       "      <th>5</th>\n",
       "      <td>abobakr</td>\n",
       "      <td>2000</td>\n",
       "      <td>saudi</td>\n",
       "      <td>abobakr saudi</td>\n",
       "    </tr>\n",
       "    <tr>\n",
       "      <th>6</th>\n",
       "      <td>hamza</td>\n",
       "      <td>1999</td>\n",
       "      <td>saudi</td>\n",
       "      <td>hamza saudi</td>\n",
       "    </tr>\n",
       "  </tbody>\n",
       "</table>\n",
       "</div>"
      ],
      "text/plain": [
       "      NAME  DATE   COUNTRY            new\n",
       "0     samy  2004  mansoura  samy mansoura\n",
       "1   khaled  2005     saudi   khaled saudi\n",
       "2      ali  2006     saudi      ali saudi\n",
       "3     omar  2007     saudi     omar saudi\n",
       "4   yasser  2009      iran    yasser iran\n",
       "5  abobakr  2000     saudi  abobakr saudi\n",
       "6    hamza  1999     saudi    hamza saudi"
      ]
     },
     "execution_count": 38,
     "metadata": {},
     "output_type": "execute_result"
    }
   ],
   "source": [
    "data"
   ]
  },
  {
   "cell_type": "markdown",
   "id": "26427952",
   "metadata": {},
   "source": [
    "# Data Sorting"
   ]
  },
  {
   "cell_type": "code",
   "execution_count": 39,
   "id": "820ee817",
   "metadata": {},
   "outputs": [
    {
     "data": {
      "text/html": [
       "<div>\n",
       "<style scoped>\n",
       "    .dataframe tbody tr th:only-of-type {\n",
       "        vertical-align: middle;\n",
       "    }\n",
       "\n",
       "    .dataframe tbody tr th {\n",
       "        vertical-align: top;\n",
       "    }\n",
       "\n",
       "    .dataframe thead th {\n",
       "        text-align: right;\n",
       "    }\n",
       "</style>\n",
       "<table border=\"1\" class=\"dataframe\">\n",
       "  <thead>\n",
       "    <tr style=\"text-align: right;\">\n",
       "      <th></th>\n",
       "      <th>NAME</th>\n",
       "      <th>DATE</th>\n",
       "      <th>COUNTRY</th>\n",
       "      <th>new</th>\n",
       "    </tr>\n",
       "  </thead>\n",
       "  <tbody>\n",
       "    <tr>\n",
       "      <th>6</th>\n",
       "      <td>hamza</td>\n",
       "      <td>1999</td>\n",
       "      <td>saudi</td>\n",
       "      <td>hamza saudi</td>\n",
       "    </tr>\n",
       "    <tr>\n",
       "      <th>5</th>\n",
       "      <td>abobakr</td>\n",
       "      <td>2000</td>\n",
       "      <td>saudi</td>\n",
       "      <td>abobakr saudi</td>\n",
       "    </tr>\n",
       "    <tr>\n",
       "      <th>0</th>\n",
       "      <td>samy</td>\n",
       "      <td>2004</td>\n",
       "      <td>mansoura</td>\n",
       "      <td>samy mansoura</td>\n",
       "    </tr>\n",
       "    <tr>\n",
       "      <th>1</th>\n",
       "      <td>khaled</td>\n",
       "      <td>2005</td>\n",
       "      <td>saudi</td>\n",
       "      <td>khaled saudi</td>\n",
       "    </tr>\n",
       "    <tr>\n",
       "      <th>2</th>\n",
       "      <td>ali</td>\n",
       "      <td>2006</td>\n",
       "      <td>saudi</td>\n",
       "      <td>ali saudi</td>\n",
       "    </tr>\n",
       "    <tr>\n",
       "      <th>3</th>\n",
       "      <td>omar</td>\n",
       "      <td>2007</td>\n",
       "      <td>saudi</td>\n",
       "      <td>omar saudi</td>\n",
       "    </tr>\n",
       "    <tr>\n",
       "      <th>4</th>\n",
       "      <td>yasser</td>\n",
       "      <td>2009</td>\n",
       "      <td>iran</td>\n",
       "      <td>yasser iran</td>\n",
       "    </tr>\n",
       "  </tbody>\n",
       "</table>\n",
       "</div>"
      ],
      "text/plain": [
       "      NAME  DATE   COUNTRY            new\n",
       "6    hamza  1999     saudi    hamza saudi\n",
       "5  abobakr  2000     saudi  abobakr saudi\n",
       "0     samy  2004  mansoura  samy mansoura\n",
       "1   khaled  2005     saudi   khaled saudi\n",
       "2      ali  2006     saudi      ali saudi\n",
       "3     omar  2007     saudi     omar saudi\n",
       "4   yasser  2009      iran    yasser iran"
      ]
     },
     "execution_count": 39,
     "metadata": {},
     "output_type": "execute_result"
    }
   ],
   "source": [
    "data.sort_values(by=['DATE','NAME'])"
   ]
  },
  {
   "cell_type": "code",
   "execution_count": 40,
   "id": "7ed1d8a4",
   "metadata": {},
   "outputs": [
    {
     "data": {
      "text/html": [
       "<div>\n",
       "<style scoped>\n",
       "    .dataframe tbody tr th:only-of-type {\n",
       "        vertical-align: middle;\n",
       "    }\n",
       "\n",
       "    .dataframe tbody tr th {\n",
       "        vertical-align: top;\n",
       "    }\n",
       "\n",
       "    .dataframe thead th {\n",
       "        text-align: right;\n",
       "    }\n",
       "</style>\n",
       "<table border=\"1\" class=\"dataframe\">\n",
       "  <thead>\n",
       "    <tr style=\"text-align: right;\">\n",
       "      <th></th>\n",
       "      <th>NAME</th>\n",
       "      <th>DATE</th>\n",
       "      <th>COUNTRY</th>\n",
       "      <th>new</th>\n",
       "    </tr>\n",
       "  </thead>\n",
       "  <tbody>\n",
       "    <tr>\n",
       "      <th>6</th>\n",
       "      <td>hamza</td>\n",
       "      <td>1999</td>\n",
       "      <td>saudi</td>\n",
       "      <td>hamza saudi</td>\n",
       "    </tr>\n",
       "    <tr>\n",
       "      <th>5</th>\n",
       "      <td>abobakr</td>\n",
       "      <td>2000</td>\n",
       "      <td>saudi</td>\n",
       "      <td>abobakr saudi</td>\n",
       "    </tr>\n",
       "    <tr>\n",
       "      <th>4</th>\n",
       "      <td>yasser</td>\n",
       "      <td>2009</td>\n",
       "      <td>iran</td>\n",
       "      <td>yasser iran</td>\n",
       "    </tr>\n",
       "    <tr>\n",
       "      <th>3</th>\n",
       "      <td>omar</td>\n",
       "      <td>2007</td>\n",
       "      <td>saudi</td>\n",
       "      <td>omar saudi</td>\n",
       "    </tr>\n",
       "    <tr>\n",
       "      <th>2</th>\n",
       "      <td>ali</td>\n",
       "      <td>2006</td>\n",
       "      <td>saudi</td>\n",
       "      <td>ali saudi</td>\n",
       "    </tr>\n",
       "    <tr>\n",
       "      <th>1</th>\n",
       "      <td>khaled</td>\n",
       "      <td>2005</td>\n",
       "      <td>saudi</td>\n",
       "      <td>khaled saudi</td>\n",
       "    </tr>\n",
       "    <tr>\n",
       "      <th>0</th>\n",
       "      <td>samy</td>\n",
       "      <td>2004</td>\n",
       "      <td>mansoura</td>\n",
       "      <td>samy mansoura</td>\n",
       "    </tr>\n",
       "  </tbody>\n",
       "</table>\n",
       "</div>"
      ],
      "text/plain": [
       "      NAME  DATE   COUNTRY            new\n",
       "6    hamza  1999     saudi    hamza saudi\n",
       "5  abobakr  2000     saudi  abobakr saudi\n",
       "4   yasser  2009      iran    yasser iran\n",
       "3     omar  2007     saudi     omar saudi\n",
       "2      ali  2006     saudi      ali saudi\n",
       "1   khaled  2005     saudi   khaled saudi\n",
       "0     samy  2004  mansoura  samy mansoura"
      ]
     },
     "execution_count": 40,
     "metadata": {},
     "output_type": "execute_result"
    }
   ],
   "source": [
    "data.sort_index(ascending=False)"
   ]
  },
  {
   "cell_type": "code",
   "execution_count": 41,
   "id": "ada7c08b",
   "metadata": {},
   "outputs": [
    {
     "data": {
      "text/plain": [
       "5    abobakr\n",
       "2        ali\n",
       "6      hamza\n",
       "1     khaled\n",
       "3       omar\n",
       "0       samy\n",
       "4     yasser\n",
       "Name: NAME, dtype: object"
      ]
     },
     "execution_count": 41,
     "metadata": {},
     "output_type": "execute_result"
    }
   ],
   "source": [
    "data['NAME'].sort_values()"
   ]
  },
  {
   "cell_type": "markdown",
   "id": "50fc581a",
   "metadata": {},
   "source": [
    "# UPDATING & ROWS AND COLUMNS"
   ]
  },
  {
   "cell_type": "code",
   "execution_count": 42,
   "id": "efa9aaa9",
   "metadata": {},
   "outputs": [
    {
     "data": {
      "text/html": [
       "<div>\n",
       "<style scoped>\n",
       "    .dataframe tbody tr th:only-of-type {\n",
       "        vertical-align: middle;\n",
       "    }\n",
       "\n",
       "    .dataframe tbody tr th {\n",
       "        vertical-align: top;\n",
       "    }\n",
       "\n",
       "    .dataframe thead th {\n",
       "        text-align: right;\n",
       "    }\n",
       "</style>\n",
       "<table border=\"1\" class=\"dataframe\">\n",
       "  <thead>\n",
       "    <tr style=\"text-align: right;\">\n",
       "      <th></th>\n",
       "      <th>NAME</th>\n",
       "      <th>DATE</th>\n",
       "      <th>COUNTRY</th>\n",
       "      <th>new</th>\n",
       "    </tr>\n",
       "  </thead>\n",
       "  <tbody>\n",
       "    <tr>\n",
       "      <th>0</th>\n",
       "      <td>samy</td>\n",
       "      <td>2004</td>\n",
       "      <td>mansoura</td>\n",
       "      <td>samy mansoura</td>\n",
       "    </tr>\n",
       "    <tr>\n",
       "      <th>1</th>\n",
       "      <td>khaled</td>\n",
       "      <td>2005</td>\n",
       "      <td>saudi</td>\n",
       "      <td>khaled saudi</td>\n",
       "    </tr>\n",
       "    <tr>\n",
       "      <th>2</th>\n",
       "      <td>ali</td>\n",
       "      <td>2006</td>\n",
       "      <td>saudi</td>\n",
       "      <td>ali saudi</td>\n",
       "    </tr>\n",
       "    <tr>\n",
       "      <th>3</th>\n",
       "      <td>omar</td>\n",
       "      <td>2007</td>\n",
       "      <td>saudi</td>\n",
       "      <td>omar saudi</td>\n",
       "    </tr>\n",
       "    <tr>\n",
       "      <th>4</th>\n",
       "      <td>yasser</td>\n",
       "      <td>2009</td>\n",
       "      <td>iran</td>\n",
       "      <td>yasser iran</td>\n",
       "    </tr>\n",
       "    <tr>\n",
       "      <th>5</th>\n",
       "      <td>abobakr</td>\n",
       "      <td>2000</td>\n",
       "      <td>saudi</td>\n",
       "      <td>abobakr saudi</td>\n",
       "    </tr>\n",
       "    <tr>\n",
       "      <th>6</th>\n",
       "      <td>hamza</td>\n",
       "      <td>1999</td>\n",
       "      <td>saudi</td>\n",
       "      <td>hamza saudi</td>\n",
       "    </tr>\n",
       "  </tbody>\n",
       "</table>\n",
       "</div>"
      ],
      "text/plain": [
       "      NAME  DATE   COUNTRY            new\n",
       "0     samy  2004  mansoura  samy mansoura\n",
       "1   khaled  2005     saudi   khaled saudi\n",
       "2      ali  2006     saudi      ali saudi\n",
       "3     omar  2007     saudi     omar saudi\n",
       "4   yasser  2009      iran    yasser iran\n",
       "5  abobakr  2000     saudi  abobakr saudi\n",
       "6    hamza  1999     saudi    hamza saudi"
      ]
     },
     "execution_count": 42,
     "metadata": {},
     "output_type": "execute_result"
    }
   ],
   "source": [
    "data"
   ]
  },
  {
   "cell_type": "code",
   "execution_count": 43,
   "id": "1e20b88c",
   "metadata": {},
   "outputs": [
    {
     "data": {
      "text/plain": [
       "Index(['NAME', 'DATE', 'COUNTRY', 'new'], dtype='object')"
      ]
     },
     "execution_count": 43,
     "metadata": {},
     "output_type": "execute_result"
    }
   ],
   "source": [
    "data.columns"
   ]
  },
  {
   "cell_type": "code",
   "execution_count": 44,
   "id": "a4986a38",
   "metadata": {},
   "outputs": [
    {
     "data": {
      "text/plain": [
       "0    2004\n",
       "1    2005\n",
       "2    2006\n",
       "3    2007\n",
       "4    2009\n",
       "5    2000\n",
       "6    1999\n",
       "Name: DATE, dtype: int64"
      ]
     },
     "execution_count": 44,
     "metadata": {},
     "output_type": "execute_result"
    }
   ],
   "source": [
    "data.DATE"
   ]
  },
  {
   "cell_type": "code",
   "execution_count": 45,
   "id": "f998a1d8",
   "metadata": {},
   "outputs": [
    {
     "data": {
      "text/plain": [
       "Index(['NAME', 'DATE', 'COUNTRY', 'new'], dtype='object')"
      ]
     },
     "execution_count": 45,
     "metadata": {},
     "output_type": "execute_result"
    }
   ],
   "source": [
    "data.columns.str.replace(' ','_')"
   ]
  },
  {
   "cell_type": "code",
   "execution_count": 46,
   "id": "e86f0f5b",
   "metadata": {},
   "outputs": [],
   "source": [
    "data.rename(columns={'DATE':'date'},inplace=True)"
   ]
  },
  {
   "cell_type": "code",
   "execution_count": 47,
   "id": "a46f0948",
   "metadata": {},
   "outputs": [
    {
     "data": {
      "text/html": [
       "<div>\n",
       "<style scoped>\n",
       "    .dataframe tbody tr th:only-of-type {\n",
       "        vertical-align: middle;\n",
       "    }\n",
       "\n",
       "    .dataframe tbody tr th {\n",
       "        vertical-align: top;\n",
       "    }\n",
       "\n",
       "    .dataframe thead th {\n",
       "        text-align: right;\n",
       "    }\n",
       "</style>\n",
       "<table border=\"1\" class=\"dataframe\">\n",
       "  <thead>\n",
       "    <tr style=\"text-align: right;\">\n",
       "      <th></th>\n",
       "      <th>NAME</th>\n",
       "      <th>date</th>\n",
       "      <th>COUNTRY</th>\n",
       "      <th>new</th>\n",
       "    </tr>\n",
       "  </thead>\n",
       "  <tbody>\n",
       "    <tr>\n",
       "      <th>0</th>\n",
       "      <td>samy</td>\n",
       "      <td>2004</td>\n",
       "      <td>mansoura</td>\n",
       "      <td>samy mansoura</td>\n",
       "    </tr>\n",
       "    <tr>\n",
       "      <th>1</th>\n",
       "      <td>khaled</td>\n",
       "      <td>2005</td>\n",
       "      <td>saudi</td>\n",
       "      <td>khaled saudi</td>\n",
       "    </tr>\n",
       "    <tr>\n",
       "      <th>2</th>\n",
       "      <td>ali</td>\n",
       "      <td>2006</td>\n",
       "      <td>saudi</td>\n",
       "      <td>ali saudi</td>\n",
       "    </tr>\n",
       "    <tr>\n",
       "      <th>3</th>\n",
       "      <td>omar</td>\n",
       "      <td>2007</td>\n",
       "      <td>saudi</td>\n",
       "      <td>omar saudi</td>\n",
       "    </tr>\n",
       "    <tr>\n",
       "      <th>4</th>\n",
       "      <td>yasser</td>\n",
       "      <td>2009</td>\n",
       "      <td>iran</td>\n",
       "      <td>yasser iran</td>\n",
       "    </tr>\n",
       "    <tr>\n",
       "      <th>5</th>\n",
       "      <td>abobakr</td>\n",
       "      <td>2000</td>\n",
       "      <td>saudi</td>\n",
       "      <td>abobakr saudi</td>\n",
       "    </tr>\n",
       "    <tr>\n",
       "      <th>6</th>\n",
       "      <td>hamza</td>\n",
       "      <td>1999</td>\n",
       "      <td>saudi</td>\n",
       "      <td>hamza saudi</td>\n",
       "    </tr>\n",
       "  </tbody>\n",
       "</table>\n",
       "</div>"
      ],
      "text/plain": [
       "      NAME  date   COUNTRY            new\n",
       "0     samy  2004  mansoura  samy mansoura\n",
       "1   khaled  2005     saudi   khaled saudi\n",
       "2      ali  2006     saudi      ali saudi\n",
       "3     omar  2007     saudi     omar saudi\n",
       "4   yasser  2009      iran    yasser iran\n",
       "5  abobakr  2000     saudi  abobakr saudi\n",
       "6    hamza  1999     saudi    hamza saudi"
      ]
     },
     "execution_count": 47,
     "metadata": {},
     "output_type": "execute_result"
    }
   ],
   "source": [
    "data"
   ]
  },
  {
   "cell_type": "code",
   "execution_count": 48,
   "id": "95e641ed",
   "metadata": {},
   "outputs": [],
   "source": [
    "data.loc[1,'date']=2020"
   ]
  },
  {
   "cell_type": "code",
   "execution_count": 49,
   "id": "596eb4eb",
   "metadata": {
    "scrolled": true
   },
   "outputs": [
    {
     "data": {
      "text/html": [
       "<div>\n",
       "<style scoped>\n",
       "    .dataframe tbody tr th:only-of-type {\n",
       "        vertical-align: middle;\n",
       "    }\n",
       "\n",
       "    .dataframe tbody tr th {\n",
       "        vertical-align: top;\n",
       "    }\n",
       "\n",
       "    .dataframe thead th {\n",
       "        text-align: right;\n",
       "    }\n",
       "</style>\n",
       "<table border=\"1\" class=\"dataframe\">\n",
       "  <thead>\n",
       "    <tr style=\"text-align: right;\">\n",
       "      <th></th>\n",
       "      <th>NAME</th>\n",
       "      <th>date</th>\n",
       "      <th>COUNTRY</th>\n",
       "      <th>new</th>\n",
       "    </tr>\n",
       "  </thead>\n",
       "  <tbody>\n",
       "    <tr>\n",
       "      <th>0</th>\n",
       "      <td>samy</td>\n",
       "      <td>2004</td>\n",
       "      <td>mansoura</td>\n",
       "      <td>samy mansoura</td>\n",
       "    </tr>\n",
       "    <tr>\n",
       "      <th>1</th>\n",
       "      <td>khaled</td>\n",
       "      <td>2020</td>\n",
       "      <td>saudi</td>\n",
       "      <td>khaled saudi</td>\n",
       "    </tr>\n",
       "    <tr>\n",
       "      <th>2</th>\n",
       "      <td>ali</td>\n",
       "      <td>2006</td>\n",
       "      <td>saudi</td>\n",
       "      <td>ali saudi</td>\n",
       "    </tr>\n",
       "    <tr>\n",
       "      <th>3</th>\n",
       "      <td>omar</td>\n",
       "      <td>2007</td>\n",
       "      <td>saudi</td>\n",
       "      <td>omar saudi</td>\n",
       "    </tr>\n",
       "    <tr>\n",
       "      <th>4</th>\n",
       "      <td>yasser</td>\n",
       "      <td>2009</td>\n",
       "      <td>iran</td>\n",
       "      <td>yasser iran</td>\n",
       "    </tr>\n",
       "    <tr>\n",
       "      <th>5</th>\n",
       "      <td>abobakr</td>\n",
       "      <td>2000</td>\n",
       "      <td>saudi</td>\n",
       "      <td>abobakr saudi</td>\n",
       "    </tr>\n",
       "    <tr>\n",
       "      <th>6</th>\n",
       "      <td>hamza</td>\n",
       "      <td>1999</td>\n",
       "      <td>saudi</td>\n",
       "      <td>hamza saudi</td>\n",
       "    </tr>\n",
       "  </tbody>\n",
       "</table>\n",
       "</div>"
      ],
      "text/plain": [
       "      NAME  date   COUNTRY            new\n",
       "0     samy  2004  mansoura  samy mansoura\n",
       "1   khaled  2020     saudi   khaled saudi\n",
       "2      ali  2006     saudi      ali saudi\n",
       "3     omar  2007     saudi     omar saudi\n",
       "4   yasser  2009      iran    yasser iran\n",
       "5  abobakr  2000     saudi  abobakr saudi\n",
       "6    hamza  1999     saudi    hamza saudi"
      ]
     },
     "execution_count": 49,
     "metadata": {},
     "output_type": "execute_result"
    }
   ],
   "source": [
    "data"
   ]
  },
  {
   "cell_type": "code",
   "execution_count": 50,
   "id": "3a23ab1a",
   "metadata": {},
   "outputs": [],
   "source": [
    "data.at[2,'date']=98989"
   ]
  },
  {
   "cell_type": "code",
   "execution_count": 51,
   "id": "2e9a4ac7",
   "metadata": {},
   "outputs": [
    {
     "data": {
      "text/html": [
       "<div>\n",
       "<style scoped>\n",
       "    .dataframe tbody tr th:only-of-type {\n",
       "        vertical-align: middle;\n",
       "    }\n",
       "\n",
       "    .dataframe tbody tr th {\n",
       "        vertical-align: top;\n",
       "    }\n",
       "\n",
       "    .dataframe thead th {\n",
       "        text-align: right;\n",
       "    }\n",
       "</style>\n",
       "<table border=\"1\" class=\"dataframe\">\n",
       "  <thead>\n",
       "    <tr style=\"text-align: right;\">\n",
       "      <th></th>\n",
       "      <th>NAME</th>\n",
       "      <th>date</th>\n",
       "      <th>COUNTRY</th>\n",
       "      <th>new</th>\n",
       "    </tr>\n",
       "  </thead>\n",
       "  <tbody>\n",
       "    <tr>\n",
       "      <th>0</th>\n",
       "      <td>samy</td>\n",
       "      <td>2004</td>\n",
       "      <td>mansoura</td>\n",
       "      <td>samy mansoura</td>\n",
       "    </tr>\n",
       "    <tr>\n",
       "      <th>1</th>\n",
       "      <td>khaled</td>\n",
       "      <td>2020</td>\n",
       "      <td>saudi</td>\n",
       "      <td>khaled saudi</td>\n",
       "    </tr>\n",
       "    <tr>\n",
       "      <th>2</th>\n",
       "      <td>ali</td>\n",
       "      <td>98989</td>\n",
       "      <td>saudi</td>\n",
       "      <td>ali saudi</td>\n",
       "    </tr>\n",
       "    <tr>\n",
       "      <th>3</th>\n",
       "      <td>omar</td>\n",
       "      <td>2007</td>\n",
       "      <td>saudi</td>\n",
       "      <td>omar saudi</td>\n",
       "    </tr>\n",
       "    <tr>\n",
       "      <th>4</th>\n",
       "      <td>yasser</td>\n",
       "      <td>2009</td>\n",
       "      <td>iran</td>\n",
       "      <td>yasser iran</td>\n",
       "    </tr>\n",
       "    <tr>\n",
       "      <th>5</th>\n",
       "      <td>abobakr</td>\n",
       "      <td>2000</td>\n",
       "      <td>saudi</td>\n",
       "      <td>abobakr saudi</td>\n",
       "    </tr>\n",
       "    <tr>\n",
       "      <th>6</th>\n",
       "      <td>hamza</td>\n",
       "      <td>1999</td>\n",
       "      <td>saudi</td>\n",
       "      <td>hamza saudi</td>\n",
       "    </tr>\n",
       "  </tbody>\n",
       "</table>\n",
       "</div>"
      ],
      "text/plain": [
       "      NAME   date   COUNTRY            new\n",
       "0     samy   2004  mansoura  samy mansoura\n",
       "1   khaled   2020     saudi   khaled saudi\n",
       "2      ali  98989     saudi      ali saudi\n",
       "3     omar   2007     saudi     omar saudi\n",
       "4   yasser   2009      iran    yasser iran\n",
       "5  abobakr   2000     saudi  abobakr saudi\n",
       "6    hamza   1999     saudi    hamza saudi"
      ]
     },
     "execution_count": 51,
     "metadata": {},
     "output_type": "execute_result"
    }
   ],
   "source": [
    "data"
   ]
  },
  {
   "cell_type": "markdown",
   "id": "c7529536",
   "metadata": {},
   "source": [
    "# Clean & Save Data"
   ]
  },
  {
   "cell_type": "code",
   "execution_count": 52,
   "id": "57e89bc8",
   "metadata": {},
   "outputs": [
    {
     "data": {
      "text/html": [
       "<div>\n",
       "<style scoped>\n",
       "    .dataframe tbody tr th:only-of-type {\n",
       "        vertical-align: middle;\n",
       "    }\n",
       "\n",
       "    .dataframe tbody tr th {\n",
       "        vertical-align: top;\n",
       "    }\n",
       "\n",
       "    .dataframe thead th {\n",
       "        text-align: right;\n",
       "    }\n",
       "</style>\n",
       "<table border=\"1\" class=\"dataframe\">\n",
       "  <thead>\n",
       "    <tr style=\"text-align: right;\">\n",
       "      <th></th>\n",
       "      <th>NAME</th>\n",
       "      <th>date</th>\n",
       "      <th>COUNTRY</th>\n",
       "      <th>new</th>\n",
       "    </tr>\n",
       "  </thead>\n",
       "  <tbody>\n",
       "    <tr>\n",
       "      <th>0</th>\n",
       "      <td>samy</td>\n",
       "      <td>2004</td>\n",
       "      <td>mansoura</td>\n",
       "      <td>samy mansoura</td>\n",
       "    </tr>\n",
       "    <tr>\n",
       "      <th>1</th>\n",
       "      <td>khaled</td>\n",
       "      <td>2020</td>\n",
       "      <td>saudi</td>\n",
       "      <td>khaled saudi</td>\n",
       "    </tr>\n",
       "    <tr>\n",
       "      <th>2</th>\n",
       "      <td>ali</td>\n",
       "      <td>98989</td>\n",
       "      <td>saudi</td>\n",
       "      <td>ali saudi</td>\n",
       "    </tr>\n",
       "    <tr>\n",
       "      <th>3</th>\n",
       "      <td>omar</td>\n",
       "      <td>2007</td>\n",
       "      <td>saudi</td>\n",
       "      <td>omar saudi</td>\n",
       "    </tr>\n",
       "    <tr>\n",
       "      <th>4</th>\n",
       "      <td>yasser</td>\n",
       "      <td>2009</td>\n",
       "      <td>iran</td>\n",
       "      <td>yasser iran</td>\n",
       "    </tr>\n",
       "    <tr>\n",
       "      <th>5</th>\n",
       "      <td>abobakr</td>\n",
       "      <td>2000</td>\n",
       "      <td>saudi</td>\n",
       "      <td>abobakr saudi</td>\n",
       "    </tr>\n",
       "    <tr>\n",
       "      <th>6</th>\n",
       "      <td>hamza</td>\n",
       "      <td>1999</td>\n",
       "      <td>saudi</td>\n",
       "      <td>hamza saudi</td>\n",
       "    </tr>\n",
       "  </tbody>\n",
       "</table>\n",
       "</div>"
      ],
      "text/plain": [
       "      NAME   date   COUNTRY            new\n",
       "0     samy   2004  mansoura  samy mansoura\n",
       "1   khaled   2020     saudi   khaled saudi\n",
       "2      ali  98989     saudi      ali saudi\n",
       "3     omar   2007     saudi     omar saudi\n",
       "4   yasser   2009      iran    yasser iran\n",
       "5  abobakr   2000     saudi  abobakr saudi\n",
       "6    hamza   1999     saudi    hamza saudi"
      ]
     },
     "execution_count": 52,
     "metadata": {},
     "output_type": "execute_result"
    }
   ],
   "source": [
    "data"
   ]
  },
  {
   "cell_type": "code",
   "execution_count": 53,
   "id": "e4578860",
   "metadata": {
    "scrolled": true
   },
   "outputs": [
    {
     "data": {
      "text/plain": [
       "NAME       0\n",
       "date       0\n",
       "COUNTRY    0\n",
       "new        0\n",
       "dtype: int64"
      ]
     },
     "execution_count": 53,
     "metadata": {},
     "output_type": "execute_result"
    }
   ],
   "source": [
    "data.isnull().sum()"
   ]
  },
  {
   "cell_type": "code",
   "execution_count": 54,
   "id": "881027d9",
   "metadata": {},
   "outputs": [],
   "source": [
    "data.dropna(inplace=True)"
   ]
  },
  {
   "cell_type": "code",
   "execution_count": 55,
   "id": "193d7c52",
   "metadata": {},
   "outputs": [
    {
     "data": {
      "text/plain": [
       "NAME       0\n",
       "date       0\n",
       "COUNTRY    0\n",
       "new        0\n",
       "dtype: int64"
      ]
     },
     "execution_count": 55,
     "metadata": {},
     "output_type": "execute_result"
    }
   ],
   "source": [
    "data.isnull().sum()"
   ]
  },
  {
   "cell_type": "code",
   "execution_count": 56,
   "id": "d3ddd609",
   "metadata": {},
   "outputs": [],
   "source": [
    "data.to_csv('Pandas.csv')"
   ]
  },
  {
   "cell_type": "code",
   "execution_count": 57,
   "id": "e6ca0c15",
   "metadata": {},
   "outputs": [
    {
     "data": {
      "text/plain": [
       "<_io.TextIOWrapper name='Pandas.csv' mode='r' encoding='cp1252'>"
      ]
     },
     "execution_count": 57,
     "metadata": {},
     "output_type": "execute_result"
    }
   ],
   "source": [
    "open('Pandas.csv')"
   ]
  },
  {
   "cell_type": "code",
   "execution_count": null,
   "id": "2f3fdaef",
   "metadata": {},
   "outputs": [],
   "source": []
  }
 ],
 "metadata": {
  "kernelspec": {
   "display_name": "Python 3 (ipykernel)",
   "language": "python",
   "name": "python3"
  },
  "language_info": {
   "codemirror_mode": {
    "name": "ipython",
    "version": 3
   },
   "file_extension": ".py",
   "mimetype": "text/x-python",
   "name": "python",
   "nbconvert_exporter": "python",
   "pygments_lexer": "ipython3",
   "version": "3.9.13"
  }
 },
 "nbformat": 4,
 "nbformat_minor": 5
}
